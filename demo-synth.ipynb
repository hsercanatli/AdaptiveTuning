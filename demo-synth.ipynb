{
 "cells": [
  {
   "cell_type": "code",
   "execution_count": 1,
   "metadata": {
    "collapsed": true
   },
   "outputs": [],
   "source": [
    "from adaptivetuning.synthesizer.synth_symbtr import synth_symbtr"
   ]
  },
  {
   "cell_type": "markdown",
   "metadata": {},
   "source": [
    "This function synthesizes the score according to the theoretical intervals.\n",
    "\n",
    "**It takes a time w.r.t. the lenght of given SymbTr.**\n",
    "If you want to obseve the status of the process, give *\"verbose\"* flag as *true*.\n",
    "\n",
    "Possible synth types are *'sine'* and *'karplus'*\n",
    "'Sine' option takes less time."
   ]
  },
  {
   "cell_type": "code",
   "execution_count": 2,
   "metadata": {
    "collapsed": false
   },
   "outputs": [],
   "source": [
    "synth_symbtr(musicxml_path=\"sampledata/saba--ornek_oz--sofyan--2--ruhi_ayangil/saba--ornek_oz--sofyan--2--ruhi_ayangil.xml\",\n",
    "             type='karplus', verbose=False)"
   ]
  },
  {
   "cell_type": "code",
   "execution_count": 3,
   "metadata": {
    "collapsed": false
   },
   "outputs": [
    {
     "name": "stdout",
     "output_type": "stream",
     "text": [
      "Writing to file out.wav\n",
      "[1/28]\n",
      "[11/28]\n",
      "[21/28]\n"
     ]
    }
   ],
   "source": [
    "synth_symbtr(musicxml_path=\"sampledata/saba--ornek_oz--sofyan--2--ruhi_ayangil/saba--ornek_oz--sofyan--2--ruhi_ayangil.xml\",\n",
    "             type='sine', verbose=True, out='out.wav')"
   ]
  },
  {
   "cell_type": "code",
   "execution_count": null,
   "metadata": {
    "collapsed": true
   },
   "outputs": [],
   "source": []
  }
 ],
 "metadata": {
  "kernelspec": {
   "display_name": "Python 2",
   "language": "python",
   "name": "python2"
  },
  "language_info": {
   "codemirror_mode": {
    "name": "ipython",
    "version": 2
   },
   "file_extension": ".py",
   "mimetype": "text/x-python",
   "name": "python",
   "nbconvert_exporter": "python",
   "pygments_lexer": "ipython2",
   "version": "2.7.6"
  }
 },
 "nbformat": 4,
 "nbformat_minor": 0
}
