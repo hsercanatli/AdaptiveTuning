{
 "cells": [
  {
   "cell_type": "code",
   "execution_count": 1,
   "metadata": {
    "collapsed": true
   },
   "outputs": [],
   "source": [
    "from adaptivetuning.synthesizer.synth_symbtr import synth_symbtr"
   ]
  },
  {
   "cell_type": "code",
   "execution_count": 2,
   "metadata": {
    "collapsed": false
   },
   "outputs": [
    {
     "name": "stdout",
     "output_type": "stream",
     "text": [
      "[1/28]\t\n",
      "[11/28]\t\n",
      "[21/28]\t\n",
      "Writing to file sample_data/synth_samples/saba--ornek_oz--sofyan--2--ruhi_ayangil--karplus.wav\n"
     ]
    }
   ],
   "source": [
    "synth_symbtr(musicxml_path=\"sample_data/synth_samples/saba--ornek_oz--sofyan--2--ruhi_ayangil.xml\", type='karplus')"
   ]
  },
  {
   "cell_type": "code",
   "execution_count": null,
   "metadata": {
    "collapsed": true
   },
   "outputs": [],
   "source": []
  }
 ],
 "metadata": {
  "kernelspec": {
   "display_name": "Python 2",
   "language": "python",
   "name": "python2"
  },
  "language_info": {
   "codemirror_mode": {
    "name": "ipython",
    "version": 2
   },
   "file_extension": ".py",
   "mimetype": "text/x-python",
   "name": "python",
   "nbconvert_exporter": "python",
   "pygments_lexer": "ipython2",
   "version": "2.7.6"
  }
 },
 "nbformat": 4,
 "nbformat_minor": 0
}
