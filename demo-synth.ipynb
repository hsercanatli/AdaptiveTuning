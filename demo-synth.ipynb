{
 "cells": [
  {
   "cell_type": "code",
   "execution_count": 1,
   "metadata": {
    "collapsed": true
   },
   "outputs": [],
   "source": [
    "from adaptive_tuning.synth_symbtr import synth_symbtr"
   ]
  },
  {
   "cell_type": "code",
   "execution_count": 4,
   "metadata": {
    "collapsed": false
   },
   "outputs": [
    {
     "name": "stdout",
     "output_type": "stream",
     "text": [
      "[['A4', 0, 440, 3, 16, 33075], ['B4', -1, 486, 1, 16, 11025], ['C5', 0, 523, 3, 16, 33075], ['D5', -4, 557, 1, 16, 11025], ['B4', -1, 486, 3, 16, 33075], ['D5', -4, 557, 1, 16, 11025], ['C5', 0, 523, 1, 4, 44100], ['E5', 0, 659, 3, 16, 33075], ['F5', 0, 698, 1, 16, 11025], ['G5', 0, 783, 3, 16, 33075], ['F5', 0, 698, 1, 16, 11025], ['E5', 0, 659, 3, 16, 33075], ['D5', -4, 557, 1, 16, 11025], ['C5', 0, 523, 1, 4, 44100], ['E5', 0, 659, 3, 16, 33075], ['F5', 0, 698, 1, 16, 11025], ['G5', 0, 783, 3, 16, 33075], ['A5', -4, 835, 1, 16, 11025], ['G5', 0, 783, 3, 16, 33075], ['F5', 0, 698, 1, 16, 11025], ['A5', -4, 835, 1, 4, 44100], ['G5', 0, 783, 3, 16, 33075], ['F5', 0, 698, 1, 16, 11025], ['E5', 0, 659, 3, 16, 33075], ['D5', -4, 557, 1, 16, 11025], ['C5', 0, 523, 3, 16, 33075], ['B4', -1, 486, 1, 16, 11025], ['A4', 0, 440, 1, 4, 44100]]\n",
      "[1/28]\t\n",
      "[11/28]\t\n",
      "[21/28]\t\n",
      "Writing to file sample_data/synth_samples/saba--ornek_oz--sofyan--2--ruhi_ayangil--karplus.wav\n",
      "Writing to file sample_data/synth_samples/saba--ornek_oz--sofyan--2--ruhi_ayangil--sine.wav\n",
      "[1/28]\n",
      "[11/28]\n",
      "[21/28]\n"
     ]
    }
   ],
   "source": [
    "synth_symbtr(musicxml_path=\"sample_data/synth_samples/saba--ornek_oz--sofyan--2--ruhi_ayangil.xml\")"
   ]
  },
  {
   "cell_type": "code",
   "execution_count": null,
   "metadata": {
    "collapsed": true
   },
   "outputs": [],
   "source": []
  }
 ],
 "metadata": {
  "kernelspec": {
   "display_name": "Python 2",
   "language": "python",
   "name": "python2"
  },
  "language_info": {
   "codemirror_mode": {
    "name": "ipython",
    "version": 2
   },
   "file_extension": ".py",
   "mimetype": "text/x-python",
   "name": "python",
   "nbconvert_exporter": "python",
   "pygments_lexer": "ipython2",
   "version": "2.7.6"
  }
 },
 "nbformat": 4,
 "nbformat_minor": 0
}
