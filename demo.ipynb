{
 "cells": [
  {
   "cell_type": "markdown",
   "metadata": {
    "deletable": true,
    "editable": true
   },
   "source": [
    "Synthesizing SymbTr scores\n",
    "========\n",
    "\n",
    "XX"
   ]
  },
  {
   "cell_type": "code",
   "execution_count": 1,
   "metadata": {
    "collapsed": false,
    "deletable": true,
    "editable": true
   },
   "outputs": [
    {
     "name": "stdout",
     "output_type": "stream",
     "text": [
      "Automatic pdb calling has been turned ON\n"
     ]
    }
   ],
   "source": [
    "# import relevant libraries\n",
    "import json\n",
    "import os\n",
    "%pdb\n",
    "\n",
    "from symbtrsynthesis.adaptivesynthesizer import AdaptiveSynthesizer"
   ]
  },
  {
   "cell_type": "code",
   "execution_count": 2,
   "metadata": {
    "collapsed": true,
    "deletable": true,
    "editable": true
   },
   "outputs": [],
   "source": [
    "# define inputs\n",
    "data_folder = 'sampledata'\n",
    "score_file = os.path.join(data_folder, 'ussak--sazsemaisi--aksaksemai----neyzen_aziz_dede.xml')\n",
    "\n",
    "# reference audio\n",
    "audio_mbid = 'f970f1e0-0be9-4914-8302-709a0eac088e'\n",
    "audio_file = os.path.join(data_folder, audio_mbid, audio_mbid + '.mp3')"
   ]
  },
  {
   "cell_type": "markdown",
   "metadata": {
    "deletable": true,
    "editable": true
   },
   "source": [
    "1. Synthesis wrt Arel-Ezgi-Uzdilek theory\n",
    "------------------------------------\n",
    "\n",
    "XX"
   ]
  },
  {
   "cell_type": "code",
   "execution_count": 3,
   "metadata": {
    "collapsed": false,
    "deletable": true,
    "editable": true
   },
   "outputs": [
    {
     "name": "stderr",
     "output_type": "stream",
     "text": [
      "INFO:root:Reading the MusicXML file: sampledata/ussak--sazsemaisi--aksaksemai----neyzen_aziz_dede.xml\n",
      "INFO:root:Synthesizing the score wrt AEU theory\n"
     ]
    }
   ],
   "source": [
    "# synthesize wrt the Arel-Ezgi-Uzdilek theory\n",
    "AdaptiveSynthesizer.synthesize(score_file, synth_type='karplus', verbose=False)"
   ]
  },
  {
   "cell_type": "markdown",
   "metadata": {
    "deletable": true,
    "editable": true
   },
   "source": [
    "2.1 Synthesis wrt a reference recording\n",
    "-----------------------------------\n",
    "\n",
    "XX"
   ]
  },
  {
   "cell_type": "code",
   "execution_count": 4,
   "metadata": {
    "collapsed": false,
    "deletable": true,
    "editable": true,
    "scrolled": false
   },
   "outputs": [
    {
     "name": "stderr",
     "output_type": "stream",
     "text": [
      "INFO:root:Reading the MusicXML file: sampledata/ussak--sazsemaisi--aksaksemai----neyzen_aziz_dede.xml\n",
      "INFO:root:Synthesizing the score wrt the recording: sampledata/f970f1e0-0be9-4914-8302-709a0eac088e/f970f1e0-0be9-4914-8302-709a0eac088e.mp3\n",
      "INFO:root:... Extracting the predominant melody\n",
      "INFO:root:... Extracting the tonic\n",
      "INFO:root:... Extracting the tuning\n",
      "INFO:root:Replacing the pitches wrt the audio tuning\n"
     ]
    }
   ],
   "source": [
    "# reference audio\n",
    "AdaptiveSynthesizer.synthesize(score_file, ref_rec=audio_file, synth_type='karplus', verbose=False)"
   ]
  },
  {
   "cell_type": "markdown",
   "metadata": {
    "deletable": true,
    "editable": true
   },
   "source": [
    "2.2 Step by step adaptive synthesis\n",
    "--------\n",
    "\n",
    "XX"
   ]
  },
  {
   "cell_type": "code",
   "execution_count": 5,
   "metadata": {
    "collapsed": false,
    "deletable": true,
    "editable": true
   },
   "outputs": [],
   "source": [
    "# import relevant libraries\n",
    "import json\n",
    "import os\n",
    "\n",
    "from predominantmelodymakam.predominantmelodymakam import PredominantMelodyMakam\n",
    "from pitchfilter.pitchfilter import PitchFilter\n",
    "from tonicidentifier.toniclastnote import TonicLastNote\n",
    "from morty.pitchdistribution import PitchDistribution\n",
    "from notemodel.notemodel import NoteModel\n",
    "\n",
    "from symbtrsynthesis.musicxmlreader import MusicXMLReader\n",
    "from symbtrsynthesis.adaptivesynthesizer import AdaptiveSynthesizer\n",
    "\n",
    "from matplotlib import pyplot as plt\n",
    "\n",
    "%matplotlib inline"
   ]
  },
  {
   "cell_type": "code",
   "execution_count": 6,
   "metadata": {
    "collapsed": false,
    "deletable": true,
    "editable": true
   },
   "outputs": [],
   "source": [
    "# define inputs\n",
    "data_folder = 'sampledata'\n",
    "score_file = os.path.join(data_folder, 'ussak--sazsemaisi--aksaksemai----neyzen_aziz_dede.xml')\n",
    "\n",
    "(measures, makam, usul, form, time_sigs, keysig, work_title, composer, lyricist, bpm, tnc_sym) = MusicXMLReader.read(score_file)\n",
    "\n",
    "audio_mbid = 'f970f1e0-0be9-4914-8302-709a0eac088e'\n",
    "audio_file = os.path.join(data_folder, audio_mbid, audio_mbid + '.mp3')"
   ]
  },
  {
   "cell_type": "markdown",
   "metadata": {
    "deletable": true,
    "editable": true
   },
   "source": [
    "2.2.2 Audio Tuning Analysis\n",
    "----------------------------"
   ]
  },
  {
   "cell_type": "code",
   "execution_count": 7,
   "metadata": {
    "collapsed": false,
    "deletable": true,
    "editable": true
   },
   "outputs": [],
   "source": [
    "# extract predominant melody\n",
    "melody_extractor = PredominantMelodyMakam()\n",
    "pitch = melody_extractor.extract(audio_file)['pitch']"
   ]
  },
  {
   "cell_type": "code",
   "execution_count": 8,
   "metadata": {
    "collapsed": true,
    "deletable": true,
    "editable": true
   },
   "outputs": [],
   "source": [
    "# Post process the pitch track to get rid of spurious pitch estimations and correct octave errors\n",
    "pitch_filter = PitchFilter()\n",
    "pitch = pitch_filter.run(pitch)"
   ]
  },
  {
   "cell_type": "code",
   "execution_count": 9,
   "metadata": {
    "collapsed": true,
    "deletable": true,
    "editable": true
   },
   "outputs": [],
   "source": [
    "# tonic identification for the related recording of SymbTr\n",
    "tonic_identifier = TonicLastNote()\n",
    "tonic = tonic_identifier.identify(pitch)[0]"
   ]
  },
  {
   "cell_type": "code",
   "execution_count": 10,
   "metadata": {
    "collapsed": true
   },
   "outputs": [],
   "source": [
    "# compute the pitch distribution\n",
    "pitch_distribution = PitchDistribution.from_hz_pitch(pitch[:,1], ref_freq=tonic['value'])"
   ]
  },
  {
   "cell_type": "code",
   "execution_count": 11,
   "metadata": {
    "collapsed": true
   },
   "outputs": [],
   "source": [
    "# obtain the tuning\n",
    "model = NoteModel()\n",
    "stablenotes = model.calculate_notes(pitch_distribution, tonic['value'], makam,\n",
    "                                    min_peak_ratio=0.1)"
   ]
  },
  {
   "cell_type": "code",
   "execution_count": 12,
   "metadata": {
    "collapsed": false
   },
   "outputs": [
    {
     "data": {
      "image/png": "[encoded data removed]",
      "text/plain": [
       "<matplotlib.figure.Figure at 0x111d24910>"
      ]
     },
     "metadata": {},
     "output_type": "display_data"
    }
   ],
   "source": [
    "# plot the tuning\n",
    "model.plot(pitch_distribution, stablenotes)\n",
    "plt.xlim([160, 450])\n",
    "plt.show()"
   ]
  },
  {
   "cell_type": "markdown",
   "metadata": {
    "deletable": true,
    "editable": true
   },
   "source": [
    "2.2.3 Adapting the tuning and synthesizing the SymbTr-score\n",
    "-----------\n",
    "\n",
    "This part synthesizes the score according to the related audio recording.\n",
    "Extracted stable pitches are used as reference in synthesis.\n",
    "\n",
    "**It takes a time w.r.t. the length of given SymbTr.**\n",
    "If you want to observe the status of the process, give *\"verbose\"* flag as *true*.\n",
    "\n",
    "Possible synth types are *'sine'* and *'karplus'*. *'sine'* option takes less time."
   ]
  },
  {
   "cell_type": "code",
   "execution_count": 13,
   "metadata": {
    "collapsed": false,
    "deletable": true,
    "editable": true
   },
   "outputs": [
    {
     "name": "stderr",
     "output_type": "stream",
     "text": [
      "INFO:root:Replacing the pitches wrt the audio tuning\n"
     ]
    }
   ],
   "source": [
    "AdaptiveSynthesizer.synth_from_tuning(measures=measures, bpm=bpm, stable_notes=stablenotes, \n",
    "                                      tonic_sym=tnc_sym, synth_type='karplus', verbose=False)"
   ]
  }
 ],
 "metadata": {
  "kernelspec": {
   "display_name": "Python 2",
   "language": "python",
   "name": "python2"
  },
  "language_info": {
   "codemirror_mode": {
    "name": "ipython",
    "version": 2
   },
   "file_extension": ".py",
   "mimetype": "text/x-python",
   "name": "python",
   "nbconvert_exporter": "python",
   "pygments_lexer": "ipython2",
   "version": "2.7.13"
  }
 },
 "nbformat": 4,
 "nbformat_minor": 0
}
