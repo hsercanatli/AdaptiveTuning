{
 "cells": [
  {
   "cell_type": "markdown",
   "metadata": {},
   "source": [
    "Synthesizing SymbTr scores\n",
    "========\n",
    "\n",
    "XX"
   ]
  },
  {
   "cell_type": "code",
   "execution_count": null,
   "metadata": {
    "collapsed": false,
    "deletable": true,
    "editable": true
   },
   "outputs": [],
   "source": [
    "# import relevant libraries\n",
    "import json\n",
    "import os\n",
    "\n",
    "from symbtrsynthesis.adaptivesynthesizer import AdaptiveSynthesizer\n"
   ]
  },
  {
   "cell_type": "markdown",
   "metadata": {},
   "source": [
    "1. Synthesis wrt Arel-Ezgi-Uzdilek theory\n",
    "------------------------------------\n",
    "\n",
    "XX"
   ]
  },
  {
   "cell_type": "code",
   "execution_count": null,
   "metadata": {
    "collapsed": false
   },
   "outputs": [],
   "source": [
    "# define inputs\n",
    "data_folder = 'sampledata'\n",
    "score_file = os.path.join(data_folder, 'ussak--sazsemaisi--aksaksemai----neyzen_aziz_dede.xml')\n",
    "\n",
    "# synthesize wrt the Arel-Ezgi-Uzdilek theory\n",
    "AdaptiveSynthesizer.synthesize(score_file, synth_type='karplus', verbose=False)"
   ]
  },
  {
   "cell_type": "markdown",
   "metadata": {},
   "source": [
    "2.1 Synthesis wrt a reference recording\n",
    "-----------------------------------\n",
    "\n",
    "XX"
   ]
  },
  {
   "cell_type": "code",
   "execution_count": null,
   "metadata": {
    "collapsed": false
   },
   "outputs": [],
   "source": [
    "# reference audio\n",
    "audio_mbid = 'f970f1e0-0be9-4914-8302-709a0eac088e'\n",
    "audio_file = os.path.join('sampledata', audio_mbid, audio_mbid + '.mp3')\n",
    "\n",
    "AdaptiveSynthesizer.synthesize(score_file, reference=audio_file, synth_type='karplus', verbose=False)"
   ]
  },
  {
   "cell_type": "markdown",
   "metadata": {},
   "source": [
    "2.2 Step by step adaptive synthesis\n",
    "--------\n",
    "\n",
    "XX"
   ]
  },
  {
   "cell_type": "code",
   "execution_count": null,
   "metadata": {
    "collapsed": false
   },
   "outputs": [],
   "source": [
    "# import relevant libraries\n",
    "import json\n",
    "import os\n",
    "\n",
    "from predominantmelodymakam.predominantmelodymakam import PredominantMelodyMakam\n",
    "from pitchfilter.pitchfilter import PitchFilter\n",
    "from tonicidentifier.toniclastnote import TonicLastNote\n",
    "from morty.pitchdistribution import PitchDistribution\n",
    "from notemodel.notemodel import NoteModel\n",
    "\n",
    "from symbtrsynthesis.musicxml_reader import read_music_xml\n",
    "from symbtrsynthesis.adaptivesynthesizer import AdaptiveSynthesizer\n",
    "\n",
    "from matplotlib import pyplot as plt\n",
    "\n",
    "%matplotlib inline"
   ]
  },
  {
   "cell_type": "markdown",
   "metadata": {},
   "source": [
    "2.2.2 Audio Tuning Analysis\n",
    "----------------------------"
   ]
  },
  {
   "cell_type": "code",
   "execution_count": null,
   "metadata": {
    "collapsed": false,
    "deletable": true,
    "editable": true
   },
   "outputs": [],
   "source": [
    "# extract predominant melody\n",
    "melody_extractor = PredominantMelodyMakam()\n",
    "pitch = melody_extractor.extract(audio_file)['pitch']\n",
    "\n",
    "# Post process the pitch track to get rid of spurious pitch estimations and correct octave errors\n",
    "pitch_filter = PitchFilter()\n",
    "pitch = pitch_filter.run(pitch)\n",
    "\n",
    "# tonic identification for the related recording of SymbTr\n",
    "tonic_identifier = TonicLastNote()\n",
    "tonic = tonic_identifier.identify(pitch)[0]\n",
    "\n",
    "# compute the pitch distribution\n",
    "pitch_distribution = PitchDistribution.from_hz_pitch(pitch[:,1], ref_freq=tonic['value'])\n",
    "\n",
    "# obtain the tuning\n",
    "model = NoteModel()\n",
    "stablenotes = model.calculate_notes(pitch_distribution, tonic['value'], makam,\n",
    "                                    min_peak_ratio=0.1)\n",
    "\n",
    "# plot the tuning\n",
    "model.plot(pitch_distribution, stablenotes)\n",
    "plt.xlim([160, 450])\n",
    "plt.show()"
   ]
  },
  {
   "cell_type": "markdown",
   "metadata": {
    "deletable": true,
    "editable": true
   },
   "source": [
    "2.2.3 Adapting the tuning and synthesizing the SymbTr-score\n",
    "-----------\n",
    "\n",
    "This part synthesizes the score according to the related audio recording.\n",
    "Extracted stable pitches are used as reference in synthesis.\n",
    "\n",
    "**It takes a time w.r.t. the length of given SymbTr.**\n",
    "If you want to observe the status of the process, give *\"verbose\"* flag as *true*.\n",
    "\n",
    "Possible synth types are *'sine'* and *'karplus'*. *'sine'* option takes less time."
   ]
  },
  {
   "cell_type": "code",
   "execution_count": null,
   "metadata": {
    "collapsed": false,
    "deletable": true,
    "editable": true
   },
   "outputs": [],
   "source": [
    "score = read_music_xml(score_file)\n",
    "theoretical_histogram, adapted_histogram = AdaptiveSynthesizer.synth_from_tuning(\n",
    "    score, stable_notes=stablenotes, synth_type='karplus', \n",
    "    verbose=False)"
   ]
  }
 ],
 "metadata": {
  "kernelspec": {
   "display_name": "Python 2",
   "language": "python",
   "name": "python2"
  },
  "language_info": {
   "codemirror_mode": {
    "name": "ipython",
    "version": 2
   },
   "file_extension": ".py",
   "mimetype": "text/x-python",
   "name": "python",
   "nbconvert_exporter": "python",
   "pygments_lexer": "ipython2",
   "version": "2.7.11"
  }
 },
 "nbformat": 4,
 "nbformat_minor": 0
}
