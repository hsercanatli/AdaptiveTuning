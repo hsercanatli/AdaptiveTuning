{
 "cells": [
  {
   "cell_type": "code",
   "execution_count": null,
   "metadata": {
    "collapsed": false,
    "deletable": true,
    "editable": true
   },
   "outputs": [],
   "source": [
    "import json\n",
    "\n",
    "from pitchfilter.pitchfilter import PitchFilter\n",
    "from tonicidentifier.toniclastnote import TonicLastNote\n",
    "from morty.pitchdistribution import PitchDistribution\n",
    "from notemodel.notemodel import NoteModel\n",
    "\n",
    "from adaptivetuning.tuner.tuner import Tuner\n",
    "from adaptivetuning.synthesizer.synth_symbtr import synth_symbtr\n",
    "\n",
    "from matplotlib import pyplot as plt\n",
    "%matplotlib inline\n",
    "%pdb"
   ]
  },
  {
   "cell_type": "code",
   "execution_count": null,
   "metadata": {
    "collapsed": false,
    "deletable": true,
    "editable": true
   },
   "outputs": [],
   "source": [
    "# loading pitch for adaptive tuning\n",
    "pitch = json.load(open(\"sampledata/huseyni--sazsemaisi--aksaksemai----tatyos_efendi/8b8d697b-cad9-446e-ad19-5e85a36aa253.json\", 'r'))['pitch']\n",
    "makam = 'huseyni'\n",
    "\n",
    "# Post process the pitch track to get rid of spurious pitch estimations and correct octave errors\n",
    "pitch_filter = PitchFilter()\n",
    "pitch = pitch_filter.run(pitch)"
   ]
  },
  {
   "cell_type": "code",
   "execution_count": null,
   "metadata": {
    "collapsed": false,
    "deletable": true,
    "editable": true
   },
   "outputs": [],
   "source": [
    "# tonic identification for the related recording of SymbTr\n",
    "tonic_identifier = TonicLastNote()\n",
    "tonic = tnc.identify(pitch)[0]"
   ]
  },
  {
   "cell_type": "code",
   "execution_count": null,
   "metadata": {
    "collapsed": false
   },
   "outputs": [],
   "source": [
    "# compute the pitch distribution\n",
    "pitch_distribution = PitchDistribution.from_hz_pitch(pitch[:,1], ref_freq=tonic['value'])\n",
    "\n",
    "# obtain the tuning\n",
    "model = NoteModel()\n",
    "stablenotes = model.calculate_notes(pitch_distribution, tonic['value'], makam,\n",
    "                                    min_peak_ratio=0.1)\n",
    "\n",
    "# plot the tuning\n",
    "model.plot(pitch_distribution, stablenotes)\n",
    "plt.xlim([160, 450])\n",
    "plt.show()"
   ]
  },
  {
   "cell_type": "markdown",
   "metadata": {
    "deletable": true,
    "editable": true
   },
   "source": [
    "# Adapting the tuning and synthesizing the SymbTr\n",
    "\n",
    "This part synthesizes the score according to the related audio recording.\n",
    "Extracted stable pitches are used as reference in synth function.\n",
    "\n",
    "**It takes a time w.r.t. the length of given SymbTr.**\n",
    "If you want to obseve the status of the process, give *\"verbose\"* flag as *true*.\n",
    "\n",
    "Possible synth types are *'sine'* and *'karplus'*\n",
    "*'Sine'* option takes less time."
   ]
  },
  {
   "cell_type": "code",
   "execution_count": null,
   "metadata": {
    "collapsed": false,
    "deletable": true,
    "editable": true
   },
   "outputs": [],
   "source": [
    "adapt = Tuner()\n",
    "theoretical_histogram, adapted_histogram = adapt.adapt_score_frequencies(musicxml_path=\"sampledata/huseyni--sazsemaisi--aksaksemai----tatyos_efendi/huseyni--sazsemaisi--aksaksemai----tatyos_efendi.xml\",\n",
    "                                                                         performed_tonic=tonic['value'],\n",
    "                                                                         stable_pitches=stablenotes,\n",
    "                                                                         type='karplus',\n",
    "                                                                         verbose=False)"
   ]
  },
  {
   "cell_type": "code",
   "execution_count": null,
   "metadata": {
    "collapsed": false,
    "deletable": true,
    "editable": true
   },
   "outputs": [],
   "source": [
    "stablenotes"
   ]
  }
 ],
 "metadata": {
  "kernelspec": {
   "display_name": "Python 2",
   "language": "python",
   "name": "python2"
  },
  "language_info": {
   "codemirror_mode": {
    "name": "ipython",
    "version": 2
   },
   "file_extension": ".py",
   "mimetype": "text/x-python",
   "name": "python",
   "nbconvert_exporter": "python",
   "pygments_lexer": "ipython2",
   "version": "2.7.11"
  }
 },
 "nbformat": 4,
 "nbformat_minor": 0
}
