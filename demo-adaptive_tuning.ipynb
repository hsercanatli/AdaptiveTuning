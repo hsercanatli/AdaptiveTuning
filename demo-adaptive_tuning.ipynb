{
 "cells": [
  {
   "cell_type": "code",
   "execution_count": 1,
   "metadata": {
    "collapsed": false
   },
   "outputs": [],
   "source": [
    "import json\n",
    "\n",
    "from pitchfilter.pitchfilter import PitchPostFilter\n",
    "from tonic_identifier.tonic_identifier import TonicLastNote\n",
    "from adaptivetuning.tuner.tuner import Tuner\n",
    "from adaptivetuning.synthesizer.synth_symbtr import synth_symbtr"
   ]
  },
  {
   "cell_type": "code",
   "execution_count": 2,
   "metadata": {
    "collapsed": true
   },
   "outputs": [],
   "source": [
    "# loading pitch for adaptive tuning\n",
    "pitch = json.load(open(\"sample_data/huseyni--sazsemaisi--aksaksemai----tatyos_efendi/8b8d697b-cad9-446e-ad19-5e85a36aa253.json\", 'r'))['pitch']\n",
    "\n",
    "# Post process the pitch track to get rid of spurious pitch estimations and correct octave errors\n",
    "flt = PitchPostFilter()\n",
    "pitch = flt.run(pitch)"
   ]
  },
  {
   "cell_type": "code",
   "execution_count": 3,
   "metadata": {
    "collapsed": false
   },
   "outputs": [],
   "source": [
    "# identification of tonic for the related recording of SymbTr\n",
    "\n",
    "tnc = TonicLastNote()\n",
    "tonic, pitch, pitch_chunks, pitch_distribution, stable_pitches = tnc.identify(pitch)"
   ]
  },
  {
   "cell_type": "code",
   "execution_count": 4,
   "metadata": {
    "collapsed": false
   },
   "outputs": [
    {
     "name": "stdout",
     "output_type": "stream",
     "text": [
      "Yes!!! 340.759416247 339.93154559 4.21112856112 F54\n",
      "No!!! 239.911701186 254.833036218 2.16220003567 2.29667830821 0 C54\n",
      "Yes!!! 223.845532263 224.771062798 -7.14334809735 B4-1\n",
      "No!!! 223.845532263 228.00850609 2.16220003567 2.20241161401 0 B40\n",
      "No!!! 308.442918446 322.819345336 2.16220003567 2.26297949558 0 F50\n",
      "Yes!!! 239.911701186 241.883263053 -14.1689072667 C50\n",
      "No!!! 406.992870911 450.929601293 2.16220003567 2.3956193577 0 B5-1\n",
      "No!!! 340.759416247 326.981772425 2.16220003567 2.0747775888 0 F51\n",
      "Yes!!! 181.033102597 181.296824315 -2.52015670866 G40\n",
      "Yes!!! 406.992870911 406.992870911 -0.0 A50\n",
      "Yes!!! 360.501065559 362.131156731 -7.81054051966 G50\n",
      "Yes!!! 203.496435455 203.496435455 -0.0 A40\n",
      "Yes!!! 272.027692126 271.482744573 3.47162449753 D50\n",
      "No!!! 272.027692126 289.057436726 2.16220003567 2.29756020469 0 E5-4\n",
      "Yes!!! 308.442918446 304.782161284 20.6700702199 E50\n",
      "[1/921]\t\n",
      "[11/921]\t\n",
      "[21/921]\t\n",
      "[31/921]\t\n",
      "[41/921]\t\n",
      "[51/921]\t\n",
      "[61/921]\t\n",
      "[71/921]\t\n",
      "[81/921]\t\n",
      "[91/921]\t\n",
      "[101/921]\t\n",
      "[111/921]\t\n",
      "[121/921]\t\n",
      "[131/921]\t\n",
      "[141/921]\t\n",
      "[151/921]\t\n",
      "[161/921]\t\n",
      "[171/921]\t\n",
      "[181/921]\t\n",
      "[191/921]\t\n",
      "[201/921]\t\n",
      "[211/921]\t\n",
      "[221/921]\t\n",
      "[231/921]\t\n",
      "[241/921]\t\n",
      "[251/921]\t\n",
      "[261/921]\t\n",
      "[271/921]\t\n",
      "[281/921]\t\n",
      "[291/921]\t\n",
      "[301/921]\t\n",
      "[311/921]\t\n",
      "[321/921]\t\n",
      "[331/921]\t\n",
      "[341/921]\t\n",
      "[351/921]\t\n",
      "[361/921]\t\n",
      "[371/921]\t\n",
      "[381/921]\t\n",
      "[391/921]\t\n",
      "[401/921]\t\n",
      "[411/921]\t\n",
      "[421/921]\t\n",
      "[431/921]\t\n",
      "[441/921]\t\n",
      "[451/921]\t\n",
      "[461/921]\t\n",
      "[471/921]\t\n",
      "[481/921]\t\n",
      "[491/921]\t\n",
      "[501/921]\t\n",
      "[511/921]\t\n",
      "[521/921]\t\n",
      "[531/921]\t\n",
      "[541/921]\t\n",
      "[551/921]\t\n",
      "[561/921]\t\n",
      "[571/921]\t\n",
      "[581/921]\t\n",
      "[591/921]\t\n",
      "[601/921]\t\n",
      "[611/921]\t\n",
      "[621/921]\t\n",
      "[631/921]\t\n",
      "[641/921]\t\n",
      "[651/921]\t\n",
      "[661/921]\t\n",
      "[671/921]\t\n",
      "[681/921]\t\n",
      "[691/921]\t\n",
      "[701/921]\t\n",
      "[711/921]\t\n",
      "[721/921]\t\n",
      "[731/921]\t\n",
      "[741/921]\t\n",
      "[751/921]\t\n",
      "[761/921]\t\n",
      "[771/921]\t\n",
      "[781/921]\t\n",
      "[791/921]\t\n",
      "[801/921]\t\n",
      "[811/921]\t\n",
      "[821/921]\t\n",
      "[831/921]\t\n",
      "[841/921]\t\n",
      "[851/921]\t\n",
      "[861/921]\t\n",
      "[871/921]\t\n",
      "[881/921]\t\n",
      "[891/921]\t\n",
      "[901/921]\t\n",
      "[911/921]\t\n",
      "[921/921]\t\n",
      "Writing to file sample_data/huseyni--sazsemaisi--aksaksemai----tatyos_efendi/huseyni--sazsemaisi--aksaksemai----tatyos_efendi--adapted_karplus.wav\n"
     ]
    },
    {
     "data": {
      "text/plain": [
       "({'A40': [440, 0.11522911051212938],\n",
       "  'A50': [880, 0.03773584905660377],\n",
       "  'B4-1': [486, 0.08288409703504043],\n",
       "  'B40': [493, 0.0033692722371967657],\n",
       "  'B5-1': [975, 0.007412398921832884],\n",
       "  'C50': [523, 0.18598382749326145],\n",
       "  'C54': [551, 0.007412398921832884],\n",
       "  'D50': [587, 0.14757412398921832],\n",
       "  'E5-4': [625, 0.009433962264150943],\n",
       "  'E50': [659, 0.17183288409703504],\n",
       "  'F50': [698, 0.02021563342318059],\n",
       "  'F51': [707, 0.010107816711590296],\n",
       "  'F54': [735, 0.06940700808625337],\n",
       "  'G40': [392, 0.027628032345013476],\n",
       "  'G50': [783, 0.0862533692722372]},\n",
       " {'A40': 203,\n",
       "  'A50': 406,\n",
       "  'B4-1': 223,\n",
       "  'B40': 228,\n",
       "  'B5-1': 450,\n",
       "  'C50': 239,\n",
       "  'C54': 254,\n",
       "  'D50': 272,\n",
       "  'E5-4': 289,\n",
       "  'E50': 308,\n",
       "  'F50': 322,\n",
       "  'F51': 326,\n",
       "  'F54': 340,\n",
       "  'G40': 181,\n",
       "  'G50': 360})"
      ]
     },
     "execution_count": 4,
     "metadata": {},
     "output_type": "execute_result"
    }
   ],
   "source": [
    "# adapting the tuning and synthesizing the SymbTr\n",
    "\n",
    "adapt = Tuner()\n",
    "adapt.adapt_score_frequencies(musicxml_path=\"sample_data/huseyni--sazsemaisi--aksaksemai----tatyos_efendi/huseyni--sazsemaisi--aksaksemai----tatyos_efendi.xml\",\n",
    "                              performed_tonic=tonic['value'],\n",
    "                              stable_pitches=stable_pitches,\n",
    "                              type='karplus'\n",
    "                              )"
   ]
  },
  {
   "cell_type": "code",
   "execution_count": null,
   "metadata": {
    "collapsed": true
   },
   "outputs": [],
   "source": []
  }
 ],
 "metadata": {
  "kernelspec": {
   "display_name": "Python 2",
   "language": "python",
   "name": "python2"
  },
  "language_info": {
   "codemirror_mode": {
    "name": "ipython",
    "version": 2
   },
   "file_extension": ".py",
   "mimetype": "text/x-python",
   "name": "python",
   "nbconvert_exporter": "python",
   "pygments_lexer": "ipython2",
   "version": "2.7.6"
  }
 },
 "nbformat": 4,
 "nbformat_minor": 0
}
