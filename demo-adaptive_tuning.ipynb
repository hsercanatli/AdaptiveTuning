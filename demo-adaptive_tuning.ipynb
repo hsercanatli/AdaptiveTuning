{
 "cells": [
  {
   "cell_type": "code",
   "execution_count": 1,
   "metadata": {
    "collapsed": false
   },
   "outputs": [],
   "source": [
    "import json\n",
    "\n",
    "from pitchfilter.pitchfilter import PitchPostFilter\n",
    "from tonicidentifier.tonicidentifier import TonicLastNote\n",
    "from adaptivetuning.tuner.tuner import Tuner\n",
    "from adaptivetuning.synthesizer.synth_symbtr import synth_symbtr"
   ]
  },
  {
   "cell_type": "code",
   "execution_count": 2,
   "metadata": {
    "collapsed": false
   },
   "outputs": [],
   "source": [
    "# loading pitch for adaptive tuning\n",
    "pitch = json.load(open(\"sampledata/huseyni--sazsemaisi--aksaksemai----tatyos_efendi/8b8d697b-cad9-446e-ad19-5e85a36aa253.json\", 'r'))['pitch']\n",
    "\n",
    "# Post process the pitch track to get rid of spurious pitch estimations and correct octave errors\n",
    "flt = PitchPostFilter()\n",
    "pitch = flt.run(pitch)"
   ]
  },
  {
   "cell_type": "code",
   "execution_count": 3,
   "metadata": {
    "collapsed": false
   },
   "outputs": [],
   "source": [
    "# identification of the tonic for the related recording of SymbTr\n",
    "\n",
    "tnc = TonicLastNote()\n",
    "tonic, pitch, pitch_chunks, pitch_distribution, stable_pitches = tnc.identify(pitch)"
   ]
  },
  {
   "cell_type": "markdown",
   "metadata": {},
   "source": [
    "# Adapting the tuning and synthesizing the SymbTr\n",
    "\n",
    "This part synthesizes the score according to the related audio recording.\n",
    "Extracted stable pitches are used as reference in synth function.\n",
    "\n",
    "**It takes a time w.r.t. the length of given SymbTr.**\n",
    "If you want to obseve the status of the process, give *\"verbose\"* flag as *true*.\n",
    "\n",
    "Possible synth types are *'sine'* and *'karplus'*\n",
    "*'Sine'* option takes less time."
   ]
  },
  {
   "cell_type": "code",
   "execution_count": 4,
   "metadata": {
    "collapsed": false
   },
   "outputs": [],
   "source": [
    "adapt = Tuner()\n",
    "theoretical_histogram, adapted_histogram = adapt.adapt_score_frequencies(musicxml_path=\"sampledata/huseyni--sazsemaisi--aksaksemai----tatyos_efendi/huseyni--sazsemaisi--aksaksemai----tatyos_efendi.xml\",\n",
    "                                                                         performed_tonic=tonic['value'],\n",
    "                                                                         stable_pitches=stable_pitches,\n",
    "                                                                         type='karplus',\n",
    "                                                                         verbose=False)"
   ]
  },
  {
   "cell_type": "code",
   "execution_count": null,
   "metadata": {
    "collapsed": true
   },
   "outputs": [],
   "source": []
  }
 ],
 "metadata": {
  "kernelspec": {
   "display_name": "Python 2",
   "language": "python",
   "name": "python2"
  },
  "language_info": {
   "codemirror_mode": {
    "name": "ipython",
    "version": 2
   },
   "file_extension": ".py",
   "mimetype": "text/x-python",
   "name": "python",
   "nbconvert_exporter": "python",
   "pygments_lexer": "ipython2",
   "version": "2.7.6"
  }
 },
 "nbformat": 4,
 "nbformat_minor": 0
}
